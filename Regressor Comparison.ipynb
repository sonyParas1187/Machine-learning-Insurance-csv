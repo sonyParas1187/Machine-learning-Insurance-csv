{
 "cells": [
  {
   "cell_type": "code",
   "execution_count": 1,
   "metadata": {},
   "outputs": [],
   "source": [
    "#==============================================================================\n",
    "# Import libraries\n",
    "#==============================================================================\n",
    "import numpy as np\n",
    "import matplotlib.pyplot as plt\n",
    "import pandas as pd\n",
    "\n"
   ]
  },
  {
   "cell_type": "code",
   "execution_count": 2,
   "metadata": {},
   "outputs": [],
   "source": [
    "#==============================================================================\n",
    "# import the dataset of flat prices\n",
    "#==============================================================================\n",
    "\n",
    "flatdata = pd.read_csv ('Price.csv')\n",
    "X = flatdata.iloc [:,:-1].values\n",
    "y = flatdata.iloc [:,1].values"
   ]
  },
  {
   "cell_type": "code",
   "execution_count": 3,
   "metadata": {},
   "outputs": [
    {
     "data": {
      "text/html": [
       "<div>\n",
       "<style scoped>\n",
       "    .dataframe tbody tr th:only-of-type {\n",
       "        vertical-align: middle;\n",
       "    }\n",
       "\n",
       "    .dataframe tbody tr th {\n",
       "        vertical-align: top;\n",
       "    }\n",
       "\n",
       "    .dataframe thead th {\n",
       "        text-align: right;\n",
       "    }\n",
       "</style>\n",
       "<table border=\"1\" class=\"dataframe\">\n",
       "  <thead>\n",
       "    <tr style=\"text-align: right;\">\n",
       "      <th></th>\n",
       "      <th>Area (sqft)</th>\n",
       "      <th>Price ($)</th>\n",
       "    </tr>\n",
       "  </thead>\n",
       "  <tbody>\n",
       "    <tr>\n",
       "      <th>0</th>\n",
       "      <td>2000</td>\n",
       "      <td>88600</td>\n",
       "    </tr>\n",
       "    <tr>\n",
       "      <th>1</th>\n",
       "      <td>1600</td>\n",
       "      <td>71600</td>\n",
       "    </tr>\n",
       "    <tr>\n",
       "      <th>2</th>\n",
       "      <td>1980</td>\n",
       "      <td>93300</td>\n",
       "    </tr>\n",
       "    <tr>\n",
       "      <th>3</th>\n",
       "      <td>1840</td>\n",
       "      <td>84300</td>\n",
       "    </tr>\n",
       "    <tr>\n",
       "      <th>4</th>\n",
       "      <td>1710</td>\n",
       "      <td>80600</td>\n",
       "    </tr>\n",
       "  </tbody>\n",
       "</table>\n",
       "</div>"
      ],
      "text/plain": [
       "   Area (sqft)  Price ($)\n",
       "0         2000      88600\n",
       "1         1600      71600\n",
       "2         1980      93300\n",
       "3         1840      84300\n",
       "4         1710      80600"
      ]
     },
     "execution_count": 3,
     "metadata": {},
     "output_type": "execute_result"
    }
   ],
   "source": [
    "flatdata.head()"
   ]
  },
  {
   "cell_type": "code",
   "execution_count": 4,
   "metadata": {},
   "outputs": [
    {
     "data": {
      "text/plain": [
       "(40, 2)"
      ]
     },
     "execution_count": 4,
     "metadata": {},
     "output_type": "execute_result"
    }
   ],
   "source": [
    "flatdata.shape"
   ]
  },
  {
   "cell_type": "code",
   "execution_count": 5,
   "metadata": {},
   "outputs": [],
   "source": [
    "#==============================================================================\n",
    "# split the dataset into training and test set. We will use 80/20 approach\n",
    "#==============================================================================\n",
    "\n",
    "from sklearn.model_selection import train_test_split\n",
    "X_train, X_test, y_train, y_test = train_test_split (X, y, test_size = 1/4, random_state = 0)\n",
    "\n"
   ]
  },
  {
   "cell_type": "code",
   "execution_count": 6,
   "metadata": {},
   "outputs": [
    {
     "data": {
      "text/plain": [
       "LinearRegression(copy_X=True, fit_intercept=True, n_jobs=None, normalize=False)"
      ]
     },
     "execution_count": 6,
     "metadata": {},
     "output_type": "execute_result"
    }
   ],
   "source": [
    "#==============================================================================\n",
    "# Fitting the Linear Regression algo to the Training set\n",
    "#==============================================================================\n",
    "\n",
    "from sklearn.linear_model import LinearRegression\n",
    "regressoragent = LinearRegression()\n",
    "regressoragent.fit (X_train, y_train)            \n"
   ]
  },
  {
   "cell_type": "code",
   "execution_count": 7,
   "metadata": {},
   "outputs": [
    {
     "data": {
      "text/plain": [
       "16531.36041539401"
      ]
     },
     "execution_count": 7,
     "metadata": {},
     "output_type": "execute_result"
    }
   ],
   "source": [
    "regressoragent.intercept_"
   ]
  },
  {
   "cell_type": "code",
   "execution_count": 8,
   "metadata": {},
   "outputs": [
    {
     "data": {
      "text/plain": [
       "array([37.71678375])"
      ]
     },
     "execution_count": 8,
     "metadata": {},
     "output_type": "execute_result"
    }
   ],
   "source": [
    "regressoragent.coef_"
   ]
  },
  {
   "cell_type": "code",
   "execution_count": 9,
   "metadata": {},
   "outputs": [
    {
     "data": {
      "text/plain": [
       "Lasso(alpha=1.0, copy_X=True, fit_intercept=True, max_iter=1000,\n",
       "      normalize=False, positive=False, precompute=False, random_state=None,\n",
       "      selection='cyclic', tol=0.0001, warm_start=False)"
      ]
     },
     "execution_count": 9,
     "metadata": {},
     "output_type": "execute_result"
    }
   ],
   "source": [
    "#==============================================================================\n",
    "# Fitting the Lasso Regression algo to the Training set\n",
    "#==============================================================================\n",
    "\n",
    "from sklearn.linear_model import Lasso\n",
    "Lasso_Reg = Lasso()\n",
    "Lasso_Reg.fit (X_train, y_train )    "
   ]
  },
  {
   "cell_type": "code",
   "execution_count": 10,
   "metadata": {},
   "outputs": [
    {
     "data": {
      "text/plain": [
       "Ridge(alpha=1.0, copy_X=True, fit_intercept=True, max_iter=None,\n",
       "      normalize=False, random_state=None, solver='auto', tol=0.001)"
      ]
     },
     "execution_count": 10,
     "metadata": {},
     "output_type": "execute_result"
    }
   ],
   "source": [
    "#==============================================================================\n",
    "# Fitting the Ridge Regression algo to the Training set\n",
    "#==============================================================================\n",
    "\n",
    "from sklearn.linear_model import Ridge\n",
    "Ridge_Reg = Ridge()\n",
    "Ridge_Reg.fit (X_train, y_train )    "
   ]
  },
  {
   "cell_type": "code",
   "execution_count": 11,
   "metadata": {},
   "outputs": [
    {
     "data": {
      "text/plain": [
       "ElasticNet(alpha=1.0, copy_X=True, fit_intercept=True, l1_ratio=0.5,\n",
       "           max_iter=1000, normalize=False, positive=False, precompute=False,\n",
       "           random_state=None, selection='cyclic', tol=0.0001, warm_start=False)"
      ]
     },
     "execution_count": 11,
     "metadata": {},
     "output_type": "execute_result"
    }
   ],
   "source": [
    "#==============================================================================\n",
    "# Fitting the ElasticNet Regression algo to the Training set\n",
    "#==============================================================================\n",
    "\n",
    "from sklearn.linear_model import ElasticNet\n",
    "ElasticNet_Reg = ElasticNet()\n",
    "ElasticNet_Reg.fit (X_train, y_train )    "
   ]
  },
  {
   "cell_type": "code",
   "execution_count": 12,
   "metadata": {},
   "outputs": [
    {
     "data": {
      "text/plain": [
       "DecisionTreeRegressor(ccp_alpha=0.0, criterion='mse', max_depth=None,\n",
       "                      max_features=None, max_leaf_nodes=None,\n",
       "                      min_impurity_decrease=0.0, min_impurity_split=None,\n",
       "                      min_samples_leaf=1, min_samples_split=2,\n",
       "                      min_weight_fraction_leaf=0.0, presort='deprecated',\n",
       "                      random_state=None, splitter='best')"
      ]
     },
     "execution_count": 12,
     "metadata": {},
     "output_type": "execute_result"
    }
   ],
   "source": [
    "#==============================================================================\n",
    "# Fitting the Decision Tree Regression algo to the Training set\n",
    "#==============================================================================\n",
    "\n",
    "from sklearn.tree import DecisionTreeRegressor\n",
    "DT_Reg = DecisionTreeRegressor()\n",
    "DT_Reg.fit (X_train, y_train )    "
   ]
  },
  {
   "cell_type": "code",
   "execution_count": 13,
   "metadata": {},
   "outputs": [
    {
     "data": {
      "text/plain": [
       "RandomForestRegressor(bootstrap=True, ccp_alpha=0.0, criterion='mse',\n",
       "                      max_depth=None, max_features='auto', max_leaf_nodes=None,\n",
       "                      max_samples=None, min_impurity_decrease=0.0,\n",
       "                      min_impurity_split=None, min_samples_leaf=1,\n",
       "                      min_samples_split=2, min_weight_fraction_leaf=0.0,\n",
       "                      n_estimators=100, n_jobs=None, oob_score=False,\n",
       "                      random_state=None, verbose=0, warm_start=False)"
      ]
     },
     "execution_count": 13,
     "metadata": {},
     "output_type": "execute_result"
    }
   ],
   "source": [
    "#==============================================================================\n",
    "# Fitting the Random Forest Regression algo to the Training set\n",
    "#==============================================================================\n",
    "\n",
    "from sklearn.ensemble import RandomForestRegressor\n",
    "RF_Reg = RandomForestRegressor()\n",
    "RF_Reg.fit (X_train, y_train )    "
   ]
  },
  {
   "cell_type": "code",
   "execution_count": 14,
   "metadata": {},
   "outputs": [
    {
     "data": {
      "text/plain": [
       "SVR(C=1.0, cache_size=200, coef0=0.0, degree=3, epsilon=0.1, gamma='scale',\n",
       "    kernel='rbf', max_iter=-1, shrinking=True, tol=0.001, verbose=False)"
      ]
     },
     "execution_count": 14,
     "metadata": {},
     "output_type": "execute_result"
    }
   ],
   "source": [
    "#==============================================================================\n",
    "# Fitting the SVM Regression algo to the Training set\n",
    "#==============================================================================\n",
    "\n",
    "from sklearn.svm import SVR\n",
    "SV_Reg = SVR()\n",
    "SV_Reg.fit (X_train, y_train )    "
   ]
  },
  {
   "cell_type": "code",
   "execution_count": 15,
   "metadata": {},
   "outputs": [
    {
     "name": "stdout",
     "output_type": "stream",
     "text": [
      "[07:41:19] WARNING: C:/Jenkins/workspace/xgboost-win64_release_0.90/src/objective/regression_obj.cu:152: reg:linear is now deprecated in favor of reg:squarederror.\n"
     ]
    },
    {
     "data": {
      "text/plain": [
       "XGBRegressor(base_score=0.5, booster='gbtree', colsample_bylevel=1,\n",
       "             colsample_bynode=1, colsample_bytree=1, gamma=0,\n",
       "             importance_type='gain', learning_rate=0.1, max_delta_step=0,\n",
       "             max_depth=3, min_child_weight=1, missing=None, n_estimators=100,\n",
       "             n_jobs=1, nthread=None, objective='reg:linear', random_state=0,\n",
       "             reg_alpha=0, reg_lambda=1, scale_pos_weight=1, seed=None,\n",
       "             silent=None, subsample=1, verbosity=1)"
      ]
     },
     "execution_count": 15,
     "metadata": {},
     "output_type": "execute_result"
    }
   ],
   "source": [
    "#==============================================================================\n",
    "# Fitting the XGBoost algo to the Training set\n",
    "#==============================================================================\n",
    "\n",
    "from xgboost import XGBRegressor\n",
    "XGBagent = XGBRegressor()\n",
    "XGBagent.fit (X_train, y_train)            \n"
   ]
  },
  {
   "cell_type": "code",
   "execution_count": 16,
   "metadata": {},
   "outputs": [],
   "source": [
    "                   \n",
    "#==============================================================================\n",
    "# Now check what our model learned by predicting the X_train values\n",
    "#==============================================================================\n",
    "\n",
    "LR_train_preds=regressoragent.predict(X_train)\n",
    "Lasso_train_preds=Lasso_Reg.predict(X_train)\n",
    "Ridge_train__preds=Ridge_Reg.predict(X_train)\n",
    "ElasticNet_train__preds=ElasticNet_Reg.predict(X_train)\n",
    "DT_train__preds=DT_Reg.predict(X_train)\n",
    "RF_train__preds=RF_Reg.predict(X_train)\n",
    "SVR_train__preds=SV_Reg.predict(X_train)\n",
    "XGBR_train__preds=XGBagent.predict(X_train)\n"
   ]
  },
  {
   "cell_type": "code",
   "execution_count": 17,
   "metadata": {},
   "outputs": [],
   "source": [
    "                   \n",
    "#==============================================================================\n",
    "# Now check what our model learned by predicting the X_test values\n",
    "#==============================================================================\n",
    "\n",
    "LR_test_preds=regressoragent.predict(X_test)\n",
    "Lasso_test_preds=Lasso_Reg.predict(X_test)\n",
    "Ridge_test__preds=Ridge_Reg.predict(X_test)\n",
    "ElasticNet_test__preds=ElasticNet_Reg.predict(X_test)\n",
    "DT_test__preds=DT_Reg.predict(X_test)\n",
    "RF_test__preds=RF_Reg.predict(X_test)\n",
    "SVR_test__preds=SV_Reg.predict(X_test)\n",
    "XGBR_test__preds=XGBagent.predict(X_test)\n",
    "\n"
   ]
  },
  {
   "cell_type": "code",
   "execution_count": 18,
   "metadata": {},
   "outputs": [],
   "source": [
    "                   \n",
    "#==============================================================================\n",
    "# Now check our model performance with training set\n",
    "#==============================================================================\n",
    "\n",
    "from sklearn.metrics import r2_score\n",
    "\n",
    "LR_train_r2=r2_score(y_train, LR_train_preds)\n",
    "Lasso_train_r2=r2_score(y_train,Lasso_train_preds)\n",
    "Ridge_train__r2=r2_score(y_train, Ridge_train__preds)\n",
    "ElasticNet_train__r2=r2_score(y_train,ElasticNet_train__preds)\n",
    "DT_train__r2=r2_score(y_train, DT_train__preds)\n",
    "RF_train__r2=r2_score(y_train, RF_train__preds)\n",
    "SVR_train__r2=r2_score(y_train, SVR_train__preds)\n",
    "XGB_train__r2=r2_score(y_train, XGBR_train__preds)\n"
   ]
  },
  {
   "cell_type": "code",
   "execution_count": 19,
   "metadata": {},
   "outputs": [
    {
     "name": "stdout",
     "output_type": "stream",
     "text": [
      "LR r2 = 0.8119696662271325\n",
      "Lasso r2 = 0.8119696662264588\n",
      "Ridge r2 = 0.8119696662260674\n",
      "ElasticNet r2 = 0.8119696659745858\n",
      "DT r2 = 0.9784345862034002\n",
      "RF r2 = 0.9405487052945776\n",
      "SVR r2 = -0.0001004242756401652\n",
      "XGB r2 = 0.9663371927686865\n"
     ]
    }
   ],
   "source": [
    "print(\"LR r2 =\", LR_train_r2)\n",
    "print(\"Lasso r2 =\", Lasso_train_r2)\n",
    "print(\"Ridge r2 =\", Ridge_train__r2)\n",
    "print(\"ElasticNet r2 =\", ElasticNet_train__r2)\n",
    "print(\"DT r2 =\", DT_train__r2)\n",
    "print(\"RF r2 =\", RF_train__r2)\n",
    "print(\"SVR r2 =\", SVR_train__r2)\n",
    "print(\"XGB r2 =\", XGB_train__r2)"
   ]
  },
  {
   "cell_type": "code",
   "execution_count": 20,
   "metadata": {},
   "outputs": [],
   "source": [
    "                 \n",
    "#==============================================================================\n",
    "# Now check our model performance with test set\n",
    "#==============================================================================\n",
    "\n",
    "LR_test_r2=r2_score(y_test, LR_test_preds)\n",
    "Lasso_test_r2=r2_score(y_test,Lasso_test_preds)\n",
    "Ridge_test__r2=r2_score(y_test, Ridge_test__preds)\n",
    "ElasticNet_test__r2=r2_score(y_test,ElasticNet_test__preds)\n",
    "DT_test__r2=r2_score(y_test, DT_test__preds)\n",
    "RF_test__r2=r2_score(y_test, RF_test__preds)\n",
    "SVR_test__r2=r2_score(y_test, SVR_test__preds)\n",
    "XGB_test__r2=r2_score(y_test, XGBR_test__preds)"
   ]
  },
  {
   "cell_type": "code",
   "execution_count": 21,
   "metadata": {},
   "outputs": [
    {
     "name": "stdout",
     "output_type": "stream",
     "text": [
      "LR test r2 = 0.566733312643642\n",
      "Lasso test r2 = 0.5667338832983402\n",
      "Ridge test r2 = 0.5667340300844952\n",
      "ElasticNet test r2 = 0.5667443590588757\n",
      "DT test r2 = 0.3039799100728704\n",
      "RF test r2 = 0.5461010333920036\n",
      "SVR test r2 = 0.0017161716437729124\n",
      "XGB test r2 = 0.36770027574272224\n"
     ]
    }
   ],
   "source": [
    "print(\"LR test r2 =\", LR_test_r2)\n",
    "print(\"Lasso test r2 =\", Lasso_test_r2)\n",
    "print(\"Ridge test r2 =\", Ridge_test__r2)\n",
    "print(\"ElasticNet test r2 =\", ElasticNet_test__r2)\n",
    "print(\"DT test r2 =\", DT_test__r2)\n",
    "print(\"RF test r2 =\", RF_test__r2)\n",
    "print(\"SVR test r2 =\", SVR_test__r2)\n",
    "print(\"XGB test r2 =\", XGB_test__r2)\n"
   ]
  },
  {
   "cell_type": "code",
   "execution_count": 22,
   "metadata": {},
   "outputs": [
    {
     "name": "stdout",
     "output_type": "stream",
     "text": [
      "LR train r2 = 0.8119696662271325\n",
      "LR test r2 = 0.566733312643642\n",
      "Lasso train r2 = 0.8119696662264588\n",
      "Lasso test r2 = 0.5667338832983402\n",
      "Ridge train r2 = 0.8119696662260674\n",
      "Ridge test r2 = 0.5667340300844952\n",
      "ElasticNet train r2 = 0.8119696659745858\n",
      "ElasticNet test r2 = 0.5667443590588757\n",
      "DT train r2 = 0.9784345862034002\n",
      "DT test r2 = 0.3039799100728704\n",
      "RF train r2 = 0.9405487052945776\n",
      "RF test r2 = 0.5461010333920036\n",
      "SVR train r2 = -0.0001004242756401652\n",
      "SVR test r2 = 0.0017161716437729124\n",
      "XGB train r2 = 0.9663371927686865\n",
      "XGB test r2 = 0.36770027574272224\n"
     ]
    }
   ],
   "source": [
    "print(\"LR train r2 =\", LR_train_r2)\n",
    "print(\"LR test r2 =\", LR_test_r2)\n",
    "\n",
    "print(\"Lasso train r2 =\", Lasso_train_r2)\n",
    "print(\"Lasso test r2 =\", Lasso_test_r2)\n",
    "\n",
    "print(\"Ridge train r2 =\", Ridge_train__r2)\n",
    "print(\"Ridge test r2 =\", Ridge_test__r2)\n",
    "\n",
    "print(\"ElasticNet train r2 =\", ElasticNet_train__r2)\n",
    "print(\"ElasticNet test r2 =\", ElasticNet_test__r2)\n",
    "\n",
    "print(\"DT train r2 =\", DT_train__r2)\n",
    "print(\"DT test r2 =\", DT_test__r2)\n",
    "\n",
    "print(\"RF train r2 =\", RF_train__r2)\n",
    "print(\"RF test r2 =\", RF_test__r2)\n",
    "\n",
    "print(\"SVR train r2 =\", SVR_train__r2)\n",
    "print(\"SVR test r2 =\", SVR_test__r2)\n",
    "\n",
    "print(\"XGB train r2 =\", XGB_train__r2)\n",
    "print(\"XGB test r2 =\", XGB_test__r2)"
   ]
  },
  {
   "cell_type": "code",
   "execution_count": null,
   "metadata": {},
   "outputs": [],
   "source": [
    "ElasticNet_Reg_Opt = ElasticNet(alpha=0.9, l1_ratio=0.01)\n",
    "ElasticNet_Reg_Opt.fit (X_train, y_train )"
   ]
  },
  {
   "cell_type": "code",
   "execution_count": null,
   "metadata": {},
   "outputs": [],
   "source": [
    "ElasticNet_train_preds_opt=ElasticNet_Reg_Opt.predict(X_train)\n",
    "ElasticNet_test_preds_opt=ElasticNet_Reg_Opt.predict(X_test)\n"
   ]
  },
  {
   "cell_type": "code",
   "execution_count": null,
   "metadata": {},
   "outputs": [],
   "source": [
    "ElasticNet_train_r2_Opt = r2_score(y_train,ElasticNet_train_preds_opt)\n",
    "ElasticNet_test_r2_Opt = r2_score(y_test,ElasticNet_test_preds_opt)\n"
   ]
  },
  {
   "cell_type": "code",
   "execution_count": null,
   "metadata": {},
   "outputs": [],
   "source": [
    "print(\"ElasticNet train r2 =\", ElasticNet_train__r2)\n",
    "print(\"ElasticNet test r2 =\", ElasticNet_test__r2)"
   ]
  },
  {
   "cell_type": "code",
   "execution_count": null,
   "metadata": {},
   "outputs": [],
   "source": [
    "print(\"ElasticNet train r2 Opt =\", ElasticNet_train_r2_Opt)\n",
    "print(\"ElasticNet test r2 Opt =\", ElasticNet_test_r2_Opt)"
   ]
  },
  {
   "cell_type": "code",
   "execution_count": null,
   "metadata": {},
   "outputs": [],
   "source": [
    "print(\"ElasticNet train r2 Opt =\", ElasticNet_train_r2_Opt)\n",
    "print(\"ElasticNet test r2 Opt =\", ElasticNet_test_r2_Opt)"
   ]
  },
  {
   "cell_type": "code",
   "execution_count": null,
   "metadata": {},
   "outputs": [],
   "source": []
  },
  {
   "cell_type": "code",
   "execution_count": null,
   "metadata": {},
   "outputs": [],
   "source": [
    "dataset = [1000, 10]"
   ]
  },
  {
   "cell_type": "code",
   "execution_count": null,
   "metadata": {},
   "outputs": [],
   "source": [
    "ElasticNet_Reg_Opt.coef_ "
   ]
  },
  {
   "cell_type": "code",
   "execution_count": null,
   "metadata": {},
   "outputs": [],
   "source": [
    "ElasticNet_Reg.coef_"
   ]
  },
  {
   "cell_type": "code",
   "execution_count": null,
   "metadata": {},
   "outputs": [],
   "source": [
    "ElasticNet_Reg_Opt.intercept_"
   ]
  },
  {
   "cell_type": "code",
   "execution_count": null,
   "metadata": {},
   "outputs": [],
   "source": [
    "ElasticNet_Reg.intercept_"
   ]
  },
  {
   "cell_type": "code",
   "execution_count": null,
   "metadata": {},
   "outputs": [],
   "source": [
    "from sklearn.metrics import mean_squared_error\n",
    "\n",
    "LR_test_MSE=mean_squared_error(y_test, LR_test_preds)\n",
    "Lasso_test_MSE=mean_squared_error(y_test,Lasso_test_preds)\n",
    "Ridge_test__MSE=mean_squared_error(y_test, Ridge_test__preds)\n",
    "ElasticNet_test__MSE=mean_squared_error(y_test,ElasticNet_test__preds)\n",
    "DT_test_MSE=mean_squared_error(y_test, DT_test__preds)\n",
    "RF_test_MSE=mean_squared_error(y_test, RF_test__preds)\n",
    "SVR_test_MSE=mean_squared_error(y_test, SVR_test__preds)"
   ]
  },
  {
   "cell_type": "code",
   "execution_count": null,
   "metadata": {},
   "outputs": [],
   "source": [
    "LR_test_MSE"
   ]
  },
  {
   "cell_type": "code",
   "execution_count": null,
   "metadata": {},
   "outputs": [],
   "source": [
    "DT_Reg_2 = DecisionTreeRegressor(min_samples_leaf=6)\n",
    "DT_Reg_2.fit (X_train, y_train )   "
   ]
  },
  {
   "cell_type": "code",
   "execution_count": null,
   "metadata": {},
   "outputs": [],
   "source": [
    "DT2_train_preds=DT_Reg_2.predict(X_train)\n",
    "DT2_test_preds=DT_Reg_2.predict(X_test)\n"
   ]
  },
  {
   "cell_type": "code",
   "execution_count": null,
   "metadata": {},
   "outputs": [],
   "source": [
    "DT2_train_r2=r2_score(y_train, DT2_train_preds)\n",
    "DT2_test_r2=r2_score(y_test, DT2_test_preds)\n"
   ]
  },
  {
   "cell_type": "code",
   "execution_count": null,
   "metadata": {},
   "outputs": [],
   "source": [
    "print(\"DT train r2 =\", DT_train__r2)\n",
    "print(\"DT test r2 =\", DT_test__r2)"
   ]
  },
  {
   "cell_type": "code",
   "execution_count": null,
   "metadata": {},
   "outputs": [],
   "source": [
    "print(\"DT2 train r2 =\", DT2_train_r2)\n",
    "print(\"DT2 test r2 =\", DT2_test_r2)"
   ]
  },
  {
   "cell_type": "code",
   "execution_count": null,
   "metadata": {},
   "outputs": [],
   "source": [
    "DT_Reg_2.tree_.node_count"
   ]
  },
  {
   "cell_type": "code",
   "execution_count": null,
   "metadata": {},
   "outputs": [],
   "source": [
    "DT_Reg_3 = DecisionTreeRegressor()\n"
   ]
  },
  {
   "cell_type": "code",
   "execution_count": null,
   "metadata": {},
   "outputs": [],
   "source": [
    "RF_Reg.estimators_"
   ]
  },
  {
   "cell_type": "code",
   "execution_count": 23,
   "metadata": {},
   "outputs": [
    {
     "name": "stdout",
     "output_type": "stream",
     "text": [
      "[07:47:07] WARNING: C:/Jenkins/workspace/xgboost-win64_release_0.90/src/objective/regression_obj.cu:152: reg:linear is now deprecated in favor of reg:squarederror.\n"
     ]
    },
    {
     "data": {
      "text/plain": [
       "XGBRegressor(base_score=0.5, booster='gbtree', colsample_bylevel=1,\n",
       "             colsample_bynode=1, colsample_bytree=1, gamma=0,\n",
       "             importance_type='gain', learning_rate=0.1, max_delta_step=0,\n",
       "             max_depth=2, min_child_weight=1, missing=None, n_estimators=100,\n",
       "             n_jobs=1, nthread=None, objective='reg:linear', random_state=0,\n",
       "             reg_alpha=0, reg_lambda=1, scale_pos_weight=1, seed=None,\n",
       "             silent=None, subsample=1, verbosity=1)"
      ]
     },
     "execution_count": 23,
     "metadata": {},
     "output_type": "execute_result"
    }
   ],
   "source": [
    "XGBagent2 = XGBRegressor(max_depth=2)\n",
    "XGBagent2.fit (X_train, y_train)"
   ]
  },
  {
   "cell_type": "code",
   "execution_count": 24,
   "metadata": {},
   "outputs": [],
   "source": [
    "XGBR2_test__preds=XGBagent2.predict(X_test)\n"
   ]
  },
  {
   "cell_type": "code",
   "execution_count": 26,
   "metadata": {},
   "outputs": [],
   "source": [
    "XGB2_test__r2=r2_score(y_test, XGBR2_test__preds)\n"
   ]
  },
  {
   "cell_type": "code",
   "execution_count": 27,
   "metadata": {},
   "outputs": [
    {
     "data": {
      "text/plain": [
       "0.4467313225437657"
      ]
     },
     "execution_count": 27,
     "metadata": {},
     "output_type": "execute_result"
    }
   ],
   "source": [
    "XGB2_test__r2"
   ]
  },
  {
   "cell_type": "code",
   "execution_count": null,
   "metadata": {},
   "outputs": [],
   "source": []
  }
 ],
 "metadata": {
  "kernelspec": {
   "display_name": "Python 3",
   "language": "python",
   "name": "python3"
  },
  "language_info": {
   "codemirror_mode": {
    "name": "ipython",
    "version": 3
   },
   "file_extension": ".py",
   "mimetype": "text/x-python",
   "name": "python",
   "nbconvert_exporter": "python",
   "pygments_lexer": "ipython3",
   "version": "3.7.3"
  }
 },
 "nbformat": 4,
 "nbformat_minor": 2
}
